{
 "cells": [
  {
   "cell_type": "code",
   "execution_count": 1,
   "metadata": {},
   "outputs": [
    {
     "name": "stderr",
     "output_type": "stream",
     "text": [
      "Using TensorFlow backend.\n"
     ]
    }
   ],
   "source": [
    "import numpy as np\n",
    "from keras.layers import Input, Dense\n",
    "from keras.models import Model\n",
    "from keras.datasets import mnist\n",
    "import matplotlib.pyplot as plt"
   ]
  },
  {
   "cell_type": "code",
   "execution_count": 2,
   "metadata": {},
   "outputs": [
    {
     "name": "stdout",
     "output_type": "stream",
     "text": [
      "WARNING:tensorflow:From /Library/Frameworks/Python.framework/Versions/3.5/lib/python3.5/site-packages/keras/backend/tensorflow_backend.py:1299: calling reduce_mean (from tensorflow.python.ops.math_ops) with keep_dims is deprecated and will be removed in a future version.\n",
      "Instructions for updating:\n",
      "keep_dims is deprecated, use keepdims instead\n"
     ]
    }
   ],
   "source": [
    "# this is the size of our encoded representations\n",
    "encoding_dim = 32  # 32 floats -> compression of factor 24.5, assuming the input is 784 floats\n",
    "\n",
    "# this is our input placeholder\n",
    "input_img = Input(shape=(784,))\n",
    "# \"encoded\" is the encoded representation of the input\n",
    "encoded = Dense(encoding_dim, activation='relu')(input_img)\n",
    "# \"decoded\" is the lossy reconstruction of the input\n",
    "decoded = Dense(784, activation='sigmoid')(encoded)\n",
    "# this model maps an input to its reconstruction\n",
    "autoencoder = Model(input_img, decoded)\n",
    "# this model maps an input to its encoded representation\n",
    "encoder = Model(input_img, encoded)\n",
    "# create a placeholder for an encoded (32-dimensional) input\n",
    "encoded_input = Input(shape=(encoding_dim,))\n",
    "# retrieve the last layer of the autoencoder model\n",
    "decoder_layer = autoencoder.layers[-1]\n",
    "# create the decoder model\n",
    "decoder = Model(encoded_input, decoder_layer(encoded_input))\n",
    "# configure our model to use a per-pixel binary crossentropy loss, and the Adadelta optimizer:\n",
    "autoencoder.compile(optimizer='adadelta', loss='binary_crossentropy')"
   ]
  },
  {
   "cell_type": "code",
   "execution_count": 4,
   "metadata": {},
   "outputs": [
    {
     "name": "stdout",
     "output_type": "stream",
     "text": [
      "Downloading data from https://s3.amazonaws.com/img-datasets/mnist.npz\n",
      "11460608/11490434 [============================>.] - ETA: 0sx_train.shape - >  (60000, 784)\n",
      "x_test.shape ->  (10000, 784)\n"
     ]
    }
   ],
   "source": [
    "# prepare our input data. We're using MNIST digits, and we're discarding the labels\n",
    "(x_train, _), (x_test, _) = mnist.load_data()\n",
    "# normalize all values between 0 and 1 and we will flatten the 28x28 images into vectors of size 784.\n",
    "x_train = x_train.astype('float32') / 255.\n",
    "x_test = x_test.astype('float32') / 255.\n",
    "x_train = x_train.reshape((len(x_train), np.prod(x_train.shape[1:])))\n",
    "x_test = x_test.reshape((len(x_test), np.prod(x_test.shape[1:])))\n",
    "print(\"x_train.shape - > \", x_train.shape)\n",
    "print(\"x_test.shape -> \", x_test.shape)"
   ]
  },
  {
   "cell_type": "code",
   "execution_count": 5,
   "metadata": {
    "scrolled": true
   },
   "outputs": [
    {
     "name": "stdout",
     "output_type": "stream",
     "text": [
      "Train on 60000 samples, validate on 10000 samples\n",
      "Epoch 1/50\n",
      "60000/60000 [==============================] - 4s - loss: 0.3701 - val_loss: 0.2733\n",
      "Epoch 2/50\n",
      "60000/60000 [==============================] - 2s - loss: 0.2670 - val_loss: 0.2577\n",
      "Epoch 3/50\n",
      "60000/60000 [==============================] - 3s - loss: 0.2470 - val_loss: 0.2337\n",
      "Epoch 4/50\n",
      "60000/60000 [==============================] - 3s - loss: 0.2250 - val_loss: 0.2146\n",
      "Epoch 5/50\n",
      "60000/60000 [==============================] - 3s - loss: 0.2091 - val_loss: 0.2013\n",
      "Epoch 6/50\n",
      "60000/60000 [==============================] - 3s - loss: 0.1978 - val_loss: 0.1915\n",
      "Epoch 7/50\n",
      "60000/60000 [==============================] - 3s - loss: 0.1890 - val_loss: 0.1836\n",
      "Epoch 8/50\n",
      "60000/60000 [==============================] - 3s - loss: 0.1818 - val_loss: 0.1772\n",
      "Epoch 9/50\n",
      "60000/60000 [==============================] - 3s - loss: 0.1758 - val_loss: 0.1717\n",
      "Epoch 10/50\n",
      "60000/60000 [==============================] - 2s - loss: 0.1707 - val_loss: 0.1668\n",
      "Epoch 11/50\n",
      "60000/60000 [==============================] - 3s - loss: 0.1662 - val_loss: 0.1625\n",
      "Epoch 12/50\n",
      "60000/60000 [==============================] - 3s - loss: 0.1621 - val_loss: 0.1587\n",
      "Epoch 13/50\n",
      "60000/60000 [==============================] - 3s - loss: 0.1584 - val_loss: 0.1551\n",
      "Epoch 14/50\n",
      "60000/60000 [==============================] - 3s - loss: 0.1549 - val_loss: 0.1518\n",
      "Epoch 15/50\n",
      "60000/60000 [==============================] - 2s - loss: 0.1517 - val_loss: 0.1485\n",
      "Epoch 16/50\n",
      "60000/60000 [==============================] - 3s - loss: 0.1487 - val_loss: 0.1457\n",
      "Epoch 17/50\n",
      "60000/60000 [==============================] - 2s - loss: 0.1458 - val_loss: 0.1430\n",
      "Epoch 18/50\n",
      "60000/60000 [==============================] - 3s - loss: 0.1432 - val_loss: 0.1403\n",
      "Epoch 19/50\n",
      "60000/60000 [==============================] - 3s - loss: 0.1408 - val_loss: 0.1380\n",
      "Epoch 20/50\n",
      "60000/60000 [==============================] - 3s - loss: 0.1385 - val_loss: 0.1357\n",
      "Epoch 21/50\n",
      "60000/60000 [==============================] - 3s - loss: 0.1363 - val_loss: 0.1336\n",
      "Epoch 22/50\n",
      "60000/60000 [==============================] - 3s - loss: 0.1342 - val_loss: 0.1317\n",
      "Epoch 23/50\n",
      "60000/60000 [==============================] - 3s - loss: 0.1323 - val_loss: 0.1296\n",
      "Epoch 24/50\n",
      "60000/60000 [==============================] - 3s - loss: 0.1304 - val_loss: 0.1278\n",
      "Epoch 25/50\n",
      "60000/60000 [==============================] - 3s - loss: 0.1286 - val_loss: 0.1261\n",
      "Epoch 26/50\n",
      "60000/60000 [==============================] - 2s - loss: 0.1269 - val_loss: 0.1244\n",
      "Epoch 27/50\n",
      "60000/60000 [==============================] - 3s - loss: 0.1252 - val_loss: 0.1228\n",
      "Epoch 28/50\n",
      "60000/60000 [==============================] - 3s - loss: 0.1237 - val_loss: 0.1212\n",
      "Epoch 29/50\n",
      "60000/60000 [==============================] - 3s - loss: 0.1222 - val_loss: 0.1198\n",
      "Epoch 30/50\n",
      "60000/60000 [==============================] - 3s - loss: 0.1208 - val_loss: 0.1184\n",
      "Epoch 31/50\n",
      "60000/60000 [==============================] - 2s - loss: 0.1194 - val_loss: 0.1171\n",
      "Epoch 32/50\n",
      "60000/60000 [==============================] - 3s - loss: 0.1181 - val_loss: 0.1158\n",
      "Epoch 33/50\n",
      "60000/60000 [==============================] - 2s - loss: 0.1169 - val_loss: 0.1146\n",
      "Epoch 34/50\n",
      "60000/60000 [==============================] - 3s - loss: 0.1158 - val_loss: 0.1135\n",
      "Epoch 35/50\n",
      "60000/60000 [==============================] - 2s - loss: 0.1147 - val_loss: 0.1125\n",
      "Epoch 36/50\n",
      "60000/60000 [==============================] - 3s - loss: 0.1136 - val_loss: 0.1115\n",
      "Epoch 37/50\n",
      "60000/60000 [==============================] - 2s - loss: 0.1127 - val_loss: 0.1105\n",
      "Epoch 38/50\n",
      "60000/60000 [==============================] - 3s - loss: 0.1118 - val_loss: 0.1096\n",
      "Epoch 39/50\n",
      "60000/60000 [==============================] - 2s - loss: 0.1109 - val_loss: 0.1089\n",
      "Epoch 40/50\n",
      "60000/60000 [==============================] - 2s - loss: 0.1101 - val_loss: 0.1081\n",
      "Epoch 41/50\n",
      "60000/60000 [==============================] - 3s - loss: 0.1094 - val_loss: 0.1074\n",
      "Epoch 42/50\n",
      "60000/60000 [==============================] - 3s - loss: 0.1087 - val_loss: 0.1067\n",
      "Epoch 43/50\n",
      "60000/60000 [==============================] - 3s - loss: 0.1081 - val_loss: 0.1061\n",
      "Epoch 44/50\n",
      "60000/60000 [==============================] - 3s - loss: 0.1075 - val_loss: 0.1056\n",
      "Epoch 45/50\n",
      "60000/60000 [==============================] - 3s - loss: 0.1070 - val_loss: 0.1051\n",
      "Epoch 46/50\n",
      "60000/60000 [==============================] - 3s - loss: 0.1065 - val_loss: 0.1046\n",
      "Epoch 47/50\n",
      "60000/60000 [==============================] - 3s - loss: 0.1060 - val_loss: 0.1041\n",
      "Epoch 48/50\n",
      "60000/60000 [==============================] - 3s - loss: 0.1056 - val_loss: 0.1037\n",
      "Epoch 49/50\n",
      "60000/60000 [==============================] - 3s - loss: 0.1052 - val_loss: 0.1033\n",
      "Epoch 50/50\n",
      "60000/60000 [==============================] - 3s - loss: 0.1048 - val_loss: 0.1030\n"
     ]
    },
    {
     "data": {
      "text/plain": [
       "<keras.callbacks.History at 0x12d4b6748>"
      ]
     },
     "execution_count": 5,
     "metadata": {},
     "output_type": "execute_result"
    }
   ],
   "source": [
    "# train our autoencoder for 50 epochs\n",
    "autoencoder.fit(x_train, x_train,\n",
    "                epochs=50,\n",
    "                batch_size=256,\n",
    "                shuffle=True,\n",
    "                validation_data=(x_test, x_test))"
   ]
  },
  {
   "cell_type": "code",
   "execution_count": 7,
   "metadata": {},
   "outputs": [],
   "source": [
    "# encode and decode some digits\n",
    "# note that we take them from the *test* set\n",
    "encoded_imgs = encoder.predict(x_test)\n",
    "decoded_imgs = decoder.predict(encoded_imgs)"
   ]
  },
  {
   "cell_type": "code",
   "execution_count": 8,
   "metadata": {},
   "outputs": [
    {
     "data": {
      "image/png": "[encoded data removed]",
      "text/plain": [
       "<matplotlib.figure.Figure at 0x12362b208>"
      ]
     },
     "metadata": {},
     "output_type": "display_data"
    },
    {
     "data": {
      "image/png": "[encoded data removed]",
      "text/plain": [
       "<matplotlib.figure.Figure at 0x1236d3be0>"
      ]
     },
     "metadata": {},
     "output_type": "display_data"
    }
   ],
   "source": [
    "# visualize the reconstructed inputs and the encoded representations.use Matplotlib\n",
    "n = 20  # how many digits we will display\n",
    "plt.figure(figsize=(20, 4))\n",
    "for i in range(n):\n",
    "    # display original\n",
    "    ax = plt.subplot(2, n, i + 1)\n",
    "    plt.imshow(x_test[i].reshape(28, 28))\n",
    "    plt.gray()\n",
    "    ax.get_xaxis().set_visible(False)\n",
    "    ax.get_yaxis().set_visible(False)\n",
    "\n",
    "    # display reconstruction\n",
    "    ax = plt.subplot(2, n, i + 1 + n)\n",
    "    plt.imshow(decoded_imgs[i].reshape(28, 28))\n",
    "    plt.gray()\n",
    "    ax.get_xaxis().set_visible(False)\n",
    "    ax.get_yaxis().set_visible(False)\n",
    "plt.show()"
   ]
  },
  {
   "cell_type": "code",
   "execution_count": null,
   "metadata": {},
   "outputs": [],
   "source": []
  }
 ],
 "metadata": {
  "kernelspec": {
   "display_name": "Python 3",
   "language": "python",
   "name": "python3"
  },
  "language_info": {
   "codemirror_mode": {
    "name": "ipython",
    "version": 3
   },
   "file_extension": ".py",
   "mimetype": "text/x-python",
   "name": "python",
   "nbconvert_exporter": "python",
   "pygments_lexer": "ipython3",
   "version": "3.5.2"
  }
 },
 "nbformat": 4,
 "nbformat_minor": 2
}
