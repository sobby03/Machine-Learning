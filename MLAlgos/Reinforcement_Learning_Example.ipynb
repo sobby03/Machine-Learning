{
 "cells": [
  {
   "cell_type": "code",
   "execution_count": 3,
   "metadata": {},
   "outputs": [],
   "source": [
    "import numpy as np\n",
    "import matplotlib.pyplot as plt\n",
    "rewardA=[]\n",
    "rewardB=[]\n",
    "\n",
    "a=2\n",
    "b=1"
   ]
  },
  {
   "cell_type": "code",
   "execution_count": 4,
   "metadata": {},
   "outputs": [],
   "source": [
    "stratA=[int(x) for x in np.random.rand(80)*2+1]\n",
    "stratB=[int(x) for x in np.random.rand(80)*2+1]"
   ]
  },
  {
   "cell_type": "code",
   "execution_count": 7,
   "metadata": {
    "scrolled": true
   },
   "outputs": [
    {
     "data": {
      "text/plain": [
       "array([ 0,  1,  1,  0,  0,  0, -1,  0, -1,  1, -1,  1,  0,  0,  1,  0, -1,\n",
       "       -1, -1,  0, -1,  0, -1,  0, -1, -1,  0,  1, -1, -1,  0,  0,  1, -1,\n",
       "        1, -1,  0,  0,  1,  0,  0,  0,  0,  1, -1, -1,  0,  0,  1,  1,  0,\n",
       "       -1,  1, -1, -1, -1,  0,  1,  1, -1, -1,  1,  0,  0, -1,  0,  0,  0,\n",
       "        1,  0,  0, -1, -1, -1,  0,  0,  0, -1,  1, -1])"
      ]
     },
     "execution_count": 7,
     "metadata": {},
     "output_type": "execute_result"
    }
   ],
   "source": [
    "np.array(stratA)-np.array(stratB)"
   ]
  },
  {
   "cell_type": "code",
   "execution_count": 10,
   "metadata": {},
   "outputs": [
    {
     "data": {
      "text/plain": [
       "array([-1, -1, -1,  0,  0,  0, -1,  0, -1, -1, -1, -1, -1,  0, -1,  0, -1,\n",
       "       -1, -1, -1, -1, -1, -1,  0, -1, -1, -1, -1, -1, -1,  0,  0, -1, -1,\n",
       "       -1, -1,  0, -1, -1, -1,  0, -1,  0, -1, -1, -1,  0,  0, -1, -1, -1,\n",
       "       -1, -1, -1, -1, -1, -1, -1, -1, -1, -1, -1, -1, -1, -1, -1, -1, -1,\n",
       "       -1,  0, -1, -1, -1, -1,  0, -1,  0, -1, -1, -1, -1, -1, -1,  0,  0,\n",
       "        0, -1,  0, -1, -1, -1, -1, -1,  0, -1,  0, -1, -1, -1, -1, -1, -1,\n",
       "       -1,  0, -1, -1, -1, -1, -1, -1,  0,  0, -1, -1, -1, -1,  0, -1, -1,\n",
       "       -1,  0, -1,  0, -1, -1, -1,  0,  0, -1, -1, -1, -1, -1, -1, -1, -1,\n",
       "       -1, -1, -1, -1, -1, -1, -1, -1, -1, -1, -1, -1, -1,  0, -1, -1, -1,\n",
       "       -1,  0, -1,  0, -1, -1, -1])"
      ]
     },
     "execution_count": 10,
     "metadata": {},
     "output_type": "execute_result"
    }
   ],
   "source": [
    "## PAYOFF MATRIX\n",
    "for i in range(0,len(stratA)):\n",
    "    if stratA[i]==1 & stratB[i]==1:\n",
    "        rewardA.append(0)\n",
    "        rewardB.append(0)\n",
    "        if stratA[i]==2 & stratB[i]==2:\n",
    "            rewardA.append(1)\n",
    "            rewardB.append(1)\n",
    "        elif stratA[i]==2 & stratB[i]==1:\n",
    "                rewardA.append(3)\n",
    "                rewardB.append(-1)\n",
    "    else:\n",
    "        rewardA.append(-1)\n",
    "        rewardB.append(3)\n",
    "np.array(rewardA)\n"
   ]
  },
  {
   "cell_type": "code",
   "execution_count": 11,
   "metadata": {},
   "outputs": [
    {
     "data": {
      "text/plain": [
       "array([3, 3, 3, 0, 0, 0, 3, 0, 3, 3, 3, 3, 3, 0, 3, 0, 3, 3, 3, 3, 3, 3,\n",
       "       3, 0, 3, 3, 3, 3, 3, 3, 0, 0, 3, 3, 3, 3, 0, 3, 3, 3, 0, 3, 0, 3,\n",
       "       3, 3, 0, 0, 3, 3, 3, 3, 3, 3, 3, 3, 3, 3, 3, 3, 3, 3, 3, 3, 3, 3,\n",
       "       3, 3, 3, 0, 3, 3, 3, 3, 0, 3, 0, 3, 3, 3, 3, 3, 3, 0, 0, 0, 3, 0,\n",
       "       3, 3, 3, 3, 3, 0, 3, 0, 3, 3, 3, 3, 3, 3, 3, 0, 3, 3, 3, 3, 3, 3,\n",
       "       0, 0, 3, 3, 3, 3, 0, 3, 3, 3, 0, 3, 0, 3, 3, 3, 0, 0, 3, 3, 3, 3,\n",
       "       3, 3, 3, 3, 3, 3, 3, 3, 3, 3, 3, 3, 3, 3, 3, 3, 3, 0, 3, 3, 3, 3,\n",
       "       0, 3, 0, 3, 3, 3])"
      ]
     },
     "execution_count": 11,
     "metadata": {},
     "output_type": "execute_result"
    }
   ],
   "source": [
    "np.array(rewardB)"
   ]
  },
  {
   "cell_type": "code",
   "execution_count": 12,
   "metadata": {},
   "outputs": [
    {
     "data": {
      "text/plain": [
       "array([  0,   3,   6,   9,   9,   9,   9,  12,  12,  15,  18,  21,  24,\n",
       "        27,  27,  30,  30,  33,  36,  39,  42,  45,  48,  51,  51,  54,\n",
       "        57,  60,  63,  66,  69,  69,  69,  72,  75,  78,  81,  81,  84,\n",
       "        87,  90,  90,  93,  93,  96,  99, 102, 102, 102, 105, 108, 111,\n",
       "       114, 117, 120, 123, 126, 129, 132, 135, 138, 141, 144, 147, 150,\n",
       "       153, 156, 159, 162, 165, 165, 168, 171, 174, 177, 177, 180, 180,\n",
       "       183, 186, 189, 192, 195, 198, 198, 198, 198, 201, 201, 204, 207,\n",
       "       210, 213, 216, 216, 219, 219, 222, 225, 228, 231, 234, 237, 240,\n",
       "       240, 243, 246, 249, 252, 255, 258, 258, 258, 261, 264, 267, 270,\n",
       "       270, 273, 276, 279, 279, 282, 282, 285, 288, 291, 291, 291, 294,\n",
       "       297, 300, 303, 306, 309, 312, 315, 318, 321, 324, 327, 330, 333,\n",
       "       336, 339, 342, 345, 348, 351, 354, 354, 357, 360, 363, 366, 366,\n",
       "       369, 369, 372, 375])"
      ]
     },
     "execution_count": 12,
     "metadata": {},
     "output_type": "execute_result"
    }
   ],
   "source": [
    "totalA=[]\n",
    "totalB=[]\n",
    "for i in range(0,len(rewardA)):\n",
    "    totalA.append(sum(rewardA[0:i]))\n",
    "    totalB.append(sum(rewardB[0:i]))\n",
    "np.array(totalB)"
   ]
  },
  {
   "cell_type": "code",
   "execution_count": 13,
   "metadata": {},
   "outputs": [
    {
     "data": {
      "image/png": "[encoded data removed]",
      "text/plain": [
       "<matplotlib.figure.Figure at 0x1064756d8>"
      ]
     },
     "metadata": {},
     "output_type": "display_data"
    }
   ],
   "source": [
    "plt.figure(figsize=(9,6))\n",
    "line1,=plt.plot(np.array(totalA),'-',color='r',linewidth=3,label='Random Strategy')\n",
    "line2,=plt.plot(np.array(totalB),'-',color='b',linewidth=3,label='Always Defeat')\n",
    "plt.title(\"REINFORCEMENT LEARNING: Defeat vs Random Strategy\")\n",
    "plt.legend([line1, line2])\n",
    "plt.show()"
   ]
  },
  {
   "cell_type": "code",
   "execution_count": null,
   "metadata": {},
   "outputs": [],
   "source": []
  }
 ],
 "metadata": {
  "kernelspec": {
   "display_name": "Python 3",
   "language": "python",
   "name": "python3"
  },
  "language_info": {
   "codemirror_mode": {
    "name": "ipython",
    "version": 3
   },
   "file_extension": ".py",
   "mimetype": "text/x-python",
   "name": "python",
   "nbconvert_exporter": "python",
   "pygments_lexer": "ipython3",
   "version": "3.5.2"
  }
 },
 "nbformat": 4,
 "nbformat_minor": 2
}
