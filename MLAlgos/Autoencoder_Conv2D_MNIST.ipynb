{
 "cells": [
  {
   "cell_type": "code",
   "execution_count": 1,
   "metadata": {},
   "outputs": [
    {
     "name": "stderr",
     "output_type": "stream",
     "text": [
      "Using TensorFlow backend.\n"
     ]
    }
   ],
   "source": [
    "from keras.layers import Input, Dense, Conv2D, MaxPooling2D, UpSampling2D\n",
    "from keras.models import Model\n",
    "from keras import backend as K\n",
    "from keras.datasets import mnist\n",
    "import numpy as np\n",
    "from keras.callbacks import TensorBoard\n",
    "import matplotlib.pyplot as plt"
   ]
  },
  {
   "cell_type": "code",
   "execution_count": 2,
   "metadata": {},
   "outputs": [
    {
     "name": "stdout",
     "output_type": "stream",
     "text": [
      "WARNING:tensorflow:From /Library/Frameworks/Python.framework/Versions/3.5/lib/python3.5/site-packages/keras/backend/tensorflow_backend.py:1299: calling reduce_mean (from tensorflow.python.ops.math_ops) with keep_dims is deprecated and will be removed in a future version.\n",
      "Instructions for updating:\n",
      "keep_dims is deprecated, use keepdims instead\n"
     ]
    }
   ],
   "source": [
    "input_img = Input(shape=(28, 28, 1))  # adapt this if using `channels_first` image data format\n",
    "\n",
    "x = Conv2D(16, (3, 3), activation='relu', padding='same')(input_img)\n",
    "x = MaxPooling2D((2, 2), padding='same')(x)\n",
    "x = Conv2D(8, (3, 3), activation='relu', padding='same')(x)\n",
    "x = MaxPooling2D((2, 2), padding='same')(x)\n",
    "x = Conv2D(8, (3, 3), activation='relu', padding='same')(x)\n",
    "encoded = MaxPooling2D((2, 2), padding='same')(x)\n",
    "\n",
    "# at this point the representation is (4, 4, 8) i.e. 128-dimensional\n",
    "\n",
    "x = Conv2D(8, (3, 3), activation='relu', padding='same')(encoded)\n",
    "x = UpSampling2D((2, 2))(x)\n",
    "x = Conv2D(8, (3, 3), activation='relu', padding='same')(x)\n",
    "x = UpSampling2D((2, 2))(x)\n",
    "x = Conv2D(16, (3, 3), activation='relu')(x)\n",
    "x = UpSampling2D((2, 2))(x)\n",
    "decoded = Conv2D(1, (3, 3), activation='sigmoid', padding='same')(x)\n",
    "\n",
    "autoencoder = Model(input_img, decoded)\n",
    "autoencoder.compile(optimizer='adadelta', loss='binary_crossentropy')"
   ]
  },
  {
   "cell_type": "code",
   "execution_count": 3,
   "metadata": {
    "scrolled": true
   },
   "outputs": [
    {
     "name": "stdout",
     "output_type": "stream",
     "text": [
      "Train on 60000 samples, validate on 10000 samples\n",
      "Epoch 1/50\n",
      "60000/60000 [==============================] - 83s - loss: 0.2314 - val_loss: 0.1744\n",
      "Epoch 2/50\n",
      "60000/60000 [==============================] - 81s - loss: 0.1647 - val_loss: 0.1540\n",
      "Epoch 3/50\n",
      "60000/60000 [==============================] - 81s - loss: 0.1503 - val_loss: 0.1429\n",
      "Epoch 4/50\n",
      "60000/60000 [==============================] - 80s - loss: 0.1418 - val_loss: 0.1356\n",
      "Epoch 5/50\n",
      "60000/60000 [==============================] - 83s - loss: 0.1362 - val_loss: 0.1331\n",
      "Epoch 6/50\n",
      "60000/60000 [==============================] - 81s - loss: 0.1312 - val_loss: 0.1287\n",
      "Epoch 7/50\n",
      "60000/60000 [==============================] - 81s - loss: 0.1278 - val_loss: 0.1233\n",
      "Epoch 8/50\n",
      "60000/60000 [==============================] - 81s - loss: 0.1247 - val_loss: 0.1222\n",
      "Epoch 9/50\n",
      "60000/60000 [==============================] - 81s - loss: 0.1224 - val_loss: 0.1195\n",
      "Epoch 10/50\n",
      "60000/60000 [==============================] - 90s - loss: 0.1204 - val_loss: 0.1177\n",
      "Epoch 11/50\n",
      "60000/60000 [==============================] - 86s - loss: 0.1182 - val_loss: 0.1148\n",
      "Epoch 12/50\n",
      "60000/60000 [==============================] - 92s - loss: 0.1166 - val_loss: 0.1130\n",
      "Epoch 13/50\n",
      "60000/60000 [==============================] - 86s - loss: 0.1152 - val_loss: 0.1127\n",
      "Epoch 14/50\n",
      "60000/60000 [==============================] - 84s - loss: 0.1140 - val_loss: 0.1105\n",
      "Epoch 15/50\n",
      "60000/60000 [==============================] - 87s - loss: 0.1132 - val_loss: 0.1126\n",
      "Epoch 16/50\n",
      "60000/60000 [==============================] - 86s - loss: 0.1122 - val_loss: 0.1110\n",
      "Epoch 17/50\n",
      "60000/60000 [==============================] - 82s - loss: 0.1111 - val_loss: 0.1114\n",
      "Epoch 18/50\n",
      "60000/60000 [==============================] - 82s - loss: 0.1103 - val_loss: 0.1085\n",
      "Epoch 19/50\n",
      "60000/60000 [==============================] - 84s - loss: 0.1098 - val_loss: 0.1082\n",
      "Epoch 20/50\n",
      "60000/60000 [==============================] - 95s - loss: 0.1091 - val_loss: 0.1077\n",
      "Epoch 21/50\n",
      "60000/60000 [==============================] - 92s - loss: 0.1086 - val_loss: 0.1072\n",
      "Epoch 22/50\n",
      "60000/60000 [==============================] - 88s - loss: 0.1076 - val_loss: 0.1069\n",
      "Epoch 23/50\n",
      "60000/60000 [==============================] - 88s - loss: 0.1075 - val_loss: 0.1052\n",
      "Epoch 24/50\n",
      "60000/60000 [==============================] - 88s - loss: 0.1067 - val_loss: 0.1056\n",
      "Epoch 25/50\n",
      "60000/60000 [==============================] - 83s - loss: 0.1065 - val_loss: 0.1054\n",
      "Epoch 26/50\n",
      "60000/60000 [==============================] - 83s - loss: 0.1061 - val_loss: 0.1049\n",
      "Epoch 27/50\n",
      "60000/60000 [==============================] - 83s - loss: 0.1056 - val_loss: 0.1057\n",
      "Epoch 28/50\n",
      "60000/60000 [==============================] - 81s - loss: 0.1053 - val_loss: 0.1062\n",
      "Epoch 29/50\n",
      "60000/60000 [==============================] - 80s - loss: 0.1046 - val_loss: 0.1032\n",
      "Epoch 30/50\n",
      "60000/60000 [==============================] - 80s - loss: 0.1041 - val_loss: 0.1031\n",
      "Epoch 31/50\n",
      "60000/60000 [==============================] - 81s - loss: 0.1039 - val_loss: 0.1028\n",
      "Epoch 32/50\n",
      "60000/60000 [==============================] - 578s - loss: 0.1037 - val_loss: 0.1025\n",
      "Epoch 33/50\n",
      "60000/60000 [==============================] - 88s - loss: 0.1036 - val_loss: 0.1026\n",
      "Epoch 34/50\n",
      "60000/60000 [==============================] - 86s - loss: 0.1034 - val_loss: 0.1020\n",
      "Epoch 35/50\n",
      "60000/60000 [==============================] - 82s - loss: 0.1031 - val_loss: 0.1011\n",
      "Epoch 36/50\n",
      "60000/60000 [==============================] - 82s - loss: 0.1029 - val_loss: 0.1030\n",
      "Epoch 37/50\n",
      "60000/60000 [==============================] - 82s - loss: 0.1025 - val_loss: 0.1016\n",
      "Epoch 38/50\n",
      "60000/60000 [==============================] - 82s - loss: 0.1025 - val_loss: 0.0995\n",
      "Epoch 39/50\n",
      "60000/60000 [==============================] - 81s - loss: 0.1022 - val_loss: 0.1017\n",
      "Epoch 40/50\n",
      "60000/60000 [==============================] - 82s - loss: 0.1016 - val_loss: 0.0996\n",
      "Epoch 41/50\n",
      "60000/60000 [==============================] - 81s - loss: 0.1016 - val_loss: 0.1007\n",
      "Epoch 42/50\n",
      "60000/60000 [==============================] - 81s - loss: 0.1015 - val_loss: 0.0998\n",
      "Epoch 43/50\n",
      "60000/60000 [==============================] - 80s - loss: 0.1013 - val_loss: 0.1009\n",
      "Epoch 44/50\n",
      "60000/60000 [==============================] - 80s - loss: 0.1011 - val_loss: 0.0986\n",
      "Epoch 45/50\n",
      "60000/60000 [==============================] - 80s - loss: 0.1007 - val_loss: 0.0999\n",
      "Epoch 46/50\n",
      "60000/60000 [==============================] - 80s - loss: 0.1004 - val_loss: 0.0996\n",
      "Epoch 47/50\n",
      "60000/60000 [==============================] - 2930s - loss: 0.1003 - val_loss: 0.0994\n",
      "Epoch 48/50\n",
      "60000/60000 [==============================] - 82s - loss: 0.1001 - val_loss: 0.0986\n",
      "Epoch 49/50\n",
      "60000/60000 [==============================] - 81s - loss: 0.0999 - val_loss: 0.0974\n",
      "Epoch 50/50\n",
      "60000/60000 [==============================] - 81s - loss: 0.0999 - val_loss: 0.0995\n"
     ]
    }
   ],
   "source": [
    "(x_train, _), (x_test, _) = mnist.load_data()\n",
    "\n",
    "x_train = x_train.astype('float32') / 255.\n",
    "x_test = x_test.astype('float32') / 255.\n",
    "x_train = np.reshape(x_train, (len(x_train), 28, 28, 1))  # adapt this if using `channels_first` image data format\n",
    "x_test = np.reshape(x_test, (len(x_test), 28, 28, 1))  # adapt this if using `channels_first` image data format\n",
    "\n",
    "autoencoder.fit(x_train, x_train,\n",
    "                epochs=50,\n",
    "                batch_size=128,\n",
    "                shuffle=True,\n",
    "                validation_data=(x_test, x_test),\n",
    "                callbacks=[TensorBoard(log_dir='/tmp/autoencoder')])\n",
    "\n",
    "decoded_imgs = autoencoder.predict(x_test)"
   ]
  },
  {
   "cell_type": "code",
   "execution_count": 6,
   "metadata": {},
   "outputs": [
    {
     "data": {
      "text/plain": [
       "<matplotlib.figure.Figure at 0x13caf4c50>"
      ]
     },
     "metadata": {},
     "output_type": "display_data"
    },
    {
     "data": {
      "text/plain": [
       "<matplotlib.figure.Figure at 0x13d098cf8>"
      ]
     },
     "metadata": {},
     "output_type": "display_data"
    },
    {
     "data": {
      "image/png": "[encoded data removed]",
      "text/plain": [
       "<matplotlib.figure.Figure at 0x13d09de48>"
      ]
     },
     "metadata": {},
     "output_type": "display_data"
    }
   ],
   "source": [
    "# visualize the reconstructed inputs and the encoded representations.use Matplotlib\n",
    "n = 20  # how many digits we will display\n",
    "plt.figure(figsize=(20, 4))\n",
    "for i in range(n):\n",
    "    # display original\n",
    "    ax = plt.subplot(2, n, i + 1)\n",
    "    plt.imshow(x_test[i].reshape(28, 28))\n",
    "    plt.gray()\n",
    "    ax.get_xaxis().set_visible(False)\n",
    "    ax.get_yaxis().set_visible(False)\n",
    "\n",
    "    # display reconstruction\n",
    "    ax = plt.subplot(2, n, i + 1 + n)\n",
    "    plt.imshow(decoded_imgs[i].reshape(28, 28))\n",
    "    plt.gray()\n",
    "    ax.get_xaxis().set_visible(False)\n",
    "    ax.get_yaxis().set_visible(False)\n",
    "plt.show()"
   ]
  },
  {
   "cell_type": "code",
   "execution_count": null,
   "metadata": {},
   "outputs": [],
   "source": []
  },
  {
   "cell_type": "code",
   "execution_count": null,
   "metadata": {},
   "outputs": [],
   "source": []
  },
  {
   "cell_type": "code",
   "execution_count": null,
   "metadata": {},
   "outputs": [],
   "source": []
  },
  {
   "cell_type": "code",
   "execution_count": null,
   "metadata": {},
   "outputs": [],
   "source": []
  },
  {
   "cell_type": "code",
   "execution_count": null,
   "metadata": {},
   "outputs": [],
   "source": []
  },
  {
   "cell_type": "code",
   "execution_count": null,
   "metadata": {},
   "outputs": [],
   "source": []
  },
  {
   "cell_type": "code",
   "execution_count": null,
   "metadata": {},
   "outputs": [],
   "source": []
  }
 ],
 "metadata": {
  "kernelspec": {
   "display_name": "Python 3",
   "language": "python",
   "name": "python3"
  },
  "language_info": {
   "codemirror_mode": {
    "name": "ipython",
    "version": 3
   },
   "file_extension": ".py",
   "mimetype": "text/x-python",
   "name": "python",
   "nbconvert_exporter": "python",
   "pygments_lexer": "ipython3",
   "version": "3.5.2"
  }
 },
 "nbformat": 4,
 "nbformat_minor": 2
}
