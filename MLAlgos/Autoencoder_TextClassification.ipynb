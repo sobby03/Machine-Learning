{
 "cells": [
  {
   "cell_type": "code",
   "execution_count": 1,
   "metadata": {},
   "outputs": [
    {
     "name": "stderr",
     "output_type": "stream",
     "text": [
      "Using TensorFlow backend.\n"
     ]
    }
   ],
   "source": [
    "from keras.layers import Input, Dense\n",
    "from keras.models import Model\n",
    "from keras.datasets import mnist\n",
    "import numpy as np\n",
    "import matplotlib.pyplot as plt\n",
    "from keras.callbacks import ModelCheckpoint\n",
    "from sklearn.preprocessing import MinMaxScaler"
   ]
  },
  {
   "cell_type": "code",
   "execution_count": 2,
   "metadata": {},
   "outputs": [],
   "source": [
    "filename = \"data/ZarathustraSmall.txt\""
   ]
  },
  {
   "cell_type": "code",
   "execution_count": 3,
   "metadata": {},
   "outputs": [],
   "source": [
    "raw_text = open(filename).read()\n",
    "raw_text = raw_text.lower()"
   ]
  },
  {
   "cell_type": "code",
   "execution_count": 6,
   "metadata": {
    "scrolled": true
   },
   "outputs": [
    {
     "data": {
      "text/plain": [
       "[' ',\n",
       " '!',\n",
       " '\"',\n",
       " \"'\",\n",
       " ',',\n",
       " '-',\n",
       " '.',\n",
       " '1',\n",
       " '2',\n",
       " '8',\n",
       " '9',\n",
       " ':',\n",
       " ';',\n",
       " '?',\n",
       " 'a',\n",
       " 'b',\n",
       " 'c',\n",
       " 'd',\n",
       " 'e',\n",
       " 'f',\n",
       " 'g',\n",
       " 'h',\n",
       " 'i',\n",
       " 'j',\n",
       " 'k',\n",
       " 'l',\n",
       " 'm',\n",
       " 'n',\n",
       " 'o',\n",
       " 'p',\n",
       " 'q',\n",
       " 'r',\n",
       " 's',\n",
       " 't',\n",
       " 'u',\n",
       " 'v',\n",
       " 'w',\n",
       " 'x',\n",
       " 'y',\n",
       " 'z']"
      ]
     },
     "execution_count": 6,
     "metadata": {},
     "output_type": "execute_result"
    }
   ],
   "source": [
    "# create mapping of unique chars to integers\n",
    "chars = sorted(list(set(raw_text)))\n",
    "chars[1:50]"
   ]
  },
  {
   "cell_type": "code",
   "execution_count": 7,
   "metadata": {
    "scrolled": true
   },
   "outputs": [
    {
     "data": {
      "text/plain": [
       "{'\\n': 0,\n",
       " ' ': 1,\n",
       " '!': 2,\n",
       " '\"': 3,\n",
       " \"'\": 4,\n",
       " ',': 5,\n",
       " '-': 6,\n",
       " '.': 7,\n",
       " '1': 8,\n",
       " '2': 9,\n",
       " '8': 10,\n",
       " '9': 11,\n",
       " ':': 12,\n",
       " ';': 13,\n",
       " '?': 14,\n",
       " 'a': 15,\n",
       " 'b': 16,\n",
       " 'c': 17,\n",
       " 'd': 18,\n",
       " 'e': 19,\n",
       " 'f': 20,\n",
       " 'g': 21,\n",
       " 'h': 22,\n",
       " 'i': 23,\n",
       " 'j': 24,\n",
       " 'k': 25,\n",
       " 'l': 26,\n",
       " 'm': 27,\n",
       " 'n': 28,\n",
       " 'o': 29,\n",
       " 'p': 30,\n",
       " 'q': 31,\n",
       " 'r': 32,\n",
       " 's': 33,\n",
       " 't': 34,\n",
       " 'u': 35,\n",
       " 'v': 36,\n",
       " 'w': 37,\n",
       " 'x': 38,\n",
       " 'y': 39,\n",
       " 'z': 40}"
      ]
     },
     "execution_count": 7,
     "metadata": {},
     "output_type": "execute_result"
    }
   ],
   "source": [
    "char_to_int = dict((c, i) for i, c in enumerate(chars))\n",
    "char_to_int"
   ]
  },
  {
   "cell_type": "code",
   "execution_count": 8,
   "metadata": {},
   "outputs": [
    {
     "name": "stdout",
     "output_type": "stream",
     "text": [
      "Total Characters:  3964\n",
      "Total Vocab:  41\n"
     ]
    }
   ],
   "source": [
    "# summarize the loaded data\n",
    "n_chars = len(raw_text)\n",
    "n_vocab = len(chars)\n",
    "print(\"Total Characters: \", n_chars)\n",
    "print(\"Total Vocab: \", n_vocab)"
   ]
  },
  {
   "cell_type": "code",
   "execution_count": 9,
   "metadata": {},
   "outputs": [
    {
     "data": {
      "text/plain": [
       "1"
      ]
     },
     "execution_count": 9,
     "metadata": {},
     "output_type": "execute_result"
    }
   ],
   "source": [
    "# prepare the dataset of input to output pairs encoded as integers\n",
    "zz=[[char_to_int[char] for char in raw_text[3320:3520]]]\n",
    "len(zz)"
   ]
  },
  {
   "cell_type": "code",
   "execution_count": 10,
   "metadata": {},
   "outputs": [
    {
     "data": {
      "text/plain": [
       "[[15,\n",
       "  26,\n",
       "  27,\n",
       "  33,\n",
       "  5,\n",
       "  1,\n",
       "  15,\n",
       "  28,\n",
       "  18,\n",
       "  1,\n",
       "  26,\n",
       "  19,\n",
       "  34,\n",
       "  1,\n",
       "  34,\n",
       "  22,\n",
       "  19,\n",
       "  27,\n",
       "  1,\n",
       "  15,\n",
       "  26,\n",
       "  33,\n",
       "  29,\n",
       "  1,\n",
       "  16,\n",
       "  19,\n",
       "  21,\n",
       "  1,\n",
       "  20,\n",
       "  29,\n",
       "  32,\n",
       "  1,\n",
       "  23,\n",
       "  34,\n",
       "  2,\n",
       "  3,\n",
       "  1,\n",
       "  1,\n",
       "  1,\n",
       "  3,\n",
       "  28,\n",
       "  29,\n",
       "  5,\n",
       "  3,\n",
       "  1,\n",
       "  32,\n",
       "  19,\n",
       "  30,\n",
       "  26,\n",
       "  23,\n",
       "  19,\n",
       "  18,\n",
       "  1,\n",
       "  40,\n",
       "  15,\n",
       "  32,\n",
       "  15,\n",
       "  34,\n",
       "  22,\n",
       "  35,\n",
       "  33,\n",
       "  34,\n",
       "  32,\n",
       "  15,\n",
       "  5,\n",
       "  1,\n",
       "  3,\n",
       "  23,\n",
       "  1,\n",
       "  21,\n",
       "  23,\n",
       "  36,\n",
       "  19,\n",
       "  1,\n",
       "  28,\n",
       "  29,\n",
       "  1,\n",
       "  15,\n",
       "  26,\n",
       "  27,\n",
       "  33,\n",
       "  7,\n",
       "  1,\n",
       "  23,\n",
       "  1,\n",
       "  15,\n",
       "  27,\n",
       "  1,\n",
       "  28,\n",
       "  29,\n",
       "  34,\n",
       "  1,\n",
       "  30,\n",
       "  29,\n",
       "  29,\n",
       "  32,\n",
       "  1,\n",
       "  19,\n",
       "  28,\n",
       "  29,\n",
       "  35,\n",
       "  21,\n",
       "  22,\n",
       "  1,\n",
       "  20,\n",
       "  29,\n",
       "  32,\n",
       "  1,\n",
       "  34,\n",
       "  22,\n",
       "  15,\n",
       "  34,\n",
       "  7,\n",
       "  3,\n",
       "  1,\n",
       "  1,\n",
       "  1,\n",
       "  34,\n",
       "  22,\n",
       "  19,\n",
       "  1,\n",
       "  33,\n",
       "  15,\n",
       "  23,\n",
       "  28,\n",
       "  34,\n",
       "  1,\n",
       "  26,\n",
       "  15,\n",
       "  35,\n",
       "  21,\n",
       "  22,\n",
       "  19,\n",
       "  18,\n",
       "  1,\n",
       "  15,\n",
       "  34,\n",
       "  1,\n",
       "  40,\n",
       "  15,\n",
       "  32,\n",
       "  15,\n",
       "  34,\n",
       "  22,\n",
       "  35,\n",
       "  33,\n",
       "  34,\n",
       "  32,\n",
       "  15,\n",
       "  5,\n",
       "  1,\n",
       "  15,\n",
       "  28,\n",
       "  18,\n",
       "  1,\n",
       "  33,\n",
       "  30,\n",
       "  15,\n",
       "  25,\n",
       "  19,\n",
       "  1,\n",
       "  34,\n",
       "  22,\n",
       "  35,\n",
       "  33,\n",
       "  12,\n",
       "  1,\n",
       "  3,\n",
       "  34,\n",
       "  22,\n",
       "  19,\n",
       "  28,\n",
       "  1,\n",
       "  33,\n",
       "  19,\n",
       "  19,\n",
       "  1,\n",
       "  34,\n",
       "  29,\n",
       "  1,\n",
       "  23,\n",
       "  34,\n",
       "  1,\n",
       "  34,\n",
       "  22,\n",
       "  15,\n",
       "  34,\n",
       "  1,\n",
       "  34,\n",
       "  22,\n",
       "  19,\n",
       "  39,\n",
       "  1,\n",
       "  15,\n",
       "  17,\n",
       "  17,\n",
       "  19,\n",
       "  30,\n",
       "  34,\n",
       "  1]]"
      ]
     },
     "execution_count": 10,
     "metadata": {},
     "output_type": "execute_result"
    }
   ],
   "source": [
    "zz"
   ]
  },
  {
   "cell_type": "code",
   "execution_count": 11,
   "metadata": {
    "scrolled": true
   },
   "outputs": [
    {
     "data": {
      "text/plain": [
       "array([[0.36585367, 0.63414633, 0.6585366 , 0.80487806, 0.12195122,\n",
       "        0.02439024, 0.36585367, 0.68292683, 0.4390244 , 0.02439024,\n",
       "        0.63414633, 0.46341464, 0.8292683 , 0.02439024, 0.8292683 ,\n",
       "        0.5365854 , 0.46341464, 0.6585366 , 0.02439024, 0.36585367,\n",
       "        0.63414633, 0.80487806, 0.70731705, 0.02439024, 0.3902439 ,\n",
       "        0.46341464, 0.5121951 , 0.02439024, 0.4878049 , 0.70731705,\n",
       "        0.7804878 , 0.02439024, 0.5609756 , 0.8292683 , 0.04878049,\n",
       "        0.07317073, 0.02439024, 0.02439024, 0.02439024, 0.07317073,\n",
       "        0.68292683, 0.70731705, 0.12195122, 0.07317073, 0.02439024,\n",
       "        0.7804878 , 0.46341464, 0.73170733, 0.63414633, 0.5609756 ,\n",
       "        0.46341464, 0.4390244 , 0.02439024, 0.9756098 , 0.36585367,\n",
       "        0.7804878 , 0.36585367, 0.8292683 , 0.5365854 , 0.85365856,\n",
       "        0.80487806, 0.8292683 , 0.7804878 , 0.36585367, 0.12195122,\n",
       "        0.02439024, 0.07317073, 0.5609756 , 0.02439024, 0.5121951 ,\n",
       "        0.5609756 , 0.8780488 , 0.46341464, 0.02439024, 0.68292683,\n",
       "        0.70731705, 0.02439024, 0.36585367, 0.63414633, 0.6585366 ,\n",
       "        0.80487806, 0.17073171, 0.02439024, 0.5609756 , 0.02439024,\n",
       "        0.36585367, 0.6585366 , 0.02439024, 0.68292683, 0.70731705,\n",
       "        0.8292683 , 0.02439024, 0.73170733, 0.70731705, 0.70731705,\n",
       "        0.7804878 , 0.02439024, 0.46341464, 0.68292683, 0.70731705,\n",
       "        0.85365856, 0.5121951 , 0.5365854 , 0.02439024, 0.4878049 ,\n",
       "        0.70731705, 0.7804878 , 0.02439024, 0.8292683 , 0.5365854 ,\n",
       "        0.36585367, 0.8292683 , 0.17073171, 0.07317073, 0.02439024,\n",
       "        0.02439024, 0.02439024, 0.8292683 , 0.5365854 , 0.46341464,\n",
       "        0.02439024, 0.80487806, 0.36585367, 0.5609756 , 0.68292683,\n",
       "        0.8292683 , 0.02439024, 0.63414633, 0.36585367, 0.85365856,\n",
       "        0.5121951 , 0.5365854 , 0.46341464, 0.4390244 , 0.02439024,\n",
       "        0.36585367, 0.8292683 , 0.02439024, 0.9756098 , 0.36585367,\n",
       "        0.7804878 , 0.36585367, 0.8292683 , 0.5365854 , 0.85365856,\n",
       "        0.80487806, 0.8292683 , 0.7804878 , 0.36585367, 0.12195122,\n",
       "        0.02439024, 0.36585367, 0.68292683, 0.4390244 , 0.02439024,\n",
       "        0.80487806, 0.73170733, 0.36585367, 0.6097561 , 0.46341464,\n",
       "        0.02439024, 0.8292683 , 0.5365854 , 0.85365856, 0.80487806,\n",
       "        0.29268292, 0.02439024, 0.07317073, 0.8292683 , 0.5365854 ,\n",
       "        0.46341464, 0.68292683, 0.02439024, 0.80487806, 0.46341464,\n",
       "        0.46341464, 0.02439024, 0.8292683 , 0.70731705, 0.02439024,\n",
       "        0.5609756 , 0.8292683 , 0.02439024, 0.8292683 , 0.5365854 ,\n",
       "        0.36585367, 0.8292683 , 0.02439024, 0.8292683 , 0.5365854 ,\n",
       "        0.46341464, 0.9512195 , 0.02439024, 0.36585367, 0.41463414,\n",
       "        0.41463414, 0.46341464, 0.73170733, 0.8292683 , 0.02439024]],\n",
       "      dtype=float32)"
      ]
     },
     "execution_count": 11,
     "metadata": {},
     "output_type": "execute_result"
    }
   ],
   "source": [
    "x_train=np.array(zz)\n",
    "x_train = x_train.astype('float32')\n",
    "x_train=x_train/float(n_vocab)\n",
    "x_train"
   ]
  },
  {
   "cell_type": "code",
   "execution_count": 12,
   "metadata": {},
   "outputs": [
    {
     "name": "stdout",
     "output_type": "stream",
     "text": [
      "WARNING:tensorflow:From /Library/Frameworks/Python.framework/Versions/3.5/lib/python3.5/site-packages/keras/backend/tensorflow_backend.py:1299: calling reduce_mean (from tensorflow.python.ops.math_ops) with keep_dims is deprecated and will be removed in a future version.\n",
      "Instructions for updating:\n",
      "keep_dims is deprecated, use keepdims instead\n"
     ]
    },
    {
     "name": "stderr",
     "output_type": "stream",
     "text": [
      "/Library/Frameworks/Python.framework/Versions/3.5/lib/python3.5/site-packages/ipykernel_launcher.py:5: UserWarning: Update your `Model` call to the Keras 2 API: `Model(inputs=Tensor(\"in..., outputs=Tensor(\"de...)`\n",
      "  \"\"\"\n",
      "/Library/Frameworks/Python.framework/Versions/3.5/lib/python3.5/site-packages/ipykernel_launcher.py:6: UserWarning: Update your `Model` call to the Keras 2 API: `Model(inputs=Tensor(\"in..., outputs=Tensor(\"de...)`\n",
      "  \n",
      "/Library/Frameworks/Python.framework/Versions/3.5/lib/python3.5/site-packages/ipykernel_launcher.py:9: UserWarning: Update your `Model` call to the Keras 2 API: `Model(inputs=Tensor(\"in..., outputs=Tensor(\"de...)`\n",
      "  if __name__ == '__main__':\n"
     ]
    }
   ],
   "source": [
    "encoding_dim = 3\n",
    "input_img = Input(shape=(200,))\n",
    "encoded = Dense(encoding_dim, activation='relu')(input_img)\n",
    "decoded = Dense(200, activation='sigmoid')(encoded)\n",
    "autoencoder = Model(input=input_img, output=decoded)\n",
    "encoder = Model(input=input_img, output=encoded)\n",
    "encoded_input = Input(shape=(encoding_dim,))\n",
    "decoder_layer = autoencoder.layers[-1]\n",
    "decoder = Model(input=encoded_input, output=decoder_layer(encoded_input))\n",
    "autoencoder.compile(optimizer='adadelta', loss='binary_crossentropy')"
   ]
  },
  {
   "cell_type": "code",
   "execution_count": 16,
   "metadata": {},
   "outputs": [
    {
     "name": "stdout",
     "output_type": "stream",
     "text": [
      "_________________________________________________________________\n",
      "Layer (type)                 Output Shape              Param #   \n",
      "=================================================================\n",
      "input_1 (InputLayer)         (None, 200)               0         \n",
      "_________________________________________________________________\n",
      "dense_1 (Dense)              (None, 3)                 603       \n",
      "_________________________________________________________________\n",
      "dense_2 (Dense)              (None, 200)               800       \n",
      "=================================================================\n",
      "Total params: 1,403\n",
      "Trainable params: 1,403\n",
      "Non-trainable params: 0\n",
      "_________________________________________________________________\n"
     ]
    }
   ],
   "source": [
    "filepath=\"data/auto/autoencoder-{loss:.4f}.hdf5\"\n",
    "checkpoint = ModelCheckpoint(filepath, monitor='binary_crossentropy', verbose=1, save_best_only=False)\n",
    "\n",
    "autoencoder.summary()"
   ]
  },
  {
   "cell_type": "code",
   "execution_count": 17,
   "metadata": {},
   "outputs": [
    {
     "name": "stderr",
     "output_type": "stream",
     "text": [
      "/Library/Frameworks/Python.framework/Versions/3.5/lib/python3.5/site-packages/ipykernel_launcher.py:5: UserWarning: The `nb_epoch` argument in `fit` has been renamed `epochs`.\n",
      "  \"\"\"\n"
     ]
    },
    {
     "name": "stdout",
     "output_type": "stream",
     "text": [
      "Epoch 00000: saving model to data/auto/autoencoder-0.6817.hdf5\n",
      "Epoch 00001: saving model to data/auto/autoencoder-0.6816.hdf5\n",
      "Epoch 00002: saving model to data/auto/autoencoder-0.6815.hdf5\n",
      "Epoch 00003: saving model to data/auto/autoencoder-0.6814.hdf5\n",
      "Epoch 00004: saving model to data/auto/autoencoder-0.6813.hdf5\n",
      "Epoch 00005: saving model to data/auto/autoencoder-0.6812.hdf5\n",
      "Epoch 00006: saving model to data/auto/autoencoder-0.6810.hdf5\n",
      "Epoch 00007: saving model to data/auto/autoencoder-0.6809.hdf5\n",
      "Epoch 00008: saving model to data/auto/autoencoder-0.6808.hdf5\n",
      "Epoch 00009: saving model to data/auto/autoencoder-0.6807.hdf5\n",
      "Epoch 00010: saving model to data/auto/autoencoder-0.6806.hdf5\n",
      "Epoch 00011: saving model to data/auto/autoencoder-0.6805.hdf5\n",
      "Epoch 00012: saving model to data/auto/autoencoder-0.6803.hdf5\n",
      "Epoch 00013: saving model to data/auto/autoencoder-0.6802.hdf5\n",
      "Epoch 00014: saving model to data/auto/autoencoder-0.6801.hdf5\n",
      "Epoch 00015: saving model to data/auto/autoencoder-0.6800.hdf5\n",
      "Epoch 00016: saving model to data/auto/autoencoder-0.6799.hdf5\n",
      "Epoch 00017: saving model to data/auto/autoencoder-0.6798.hdf5\n",
      "Epoch 00018: saving model to data/auto/autoencoder-0.6796.hdf5\n",
      "Epoch 00019: saving model to data/auto/autoencoder-0.6795.hdf5\n",
      "Epoch 00020: saving model to data/auto/autoencoder-0.6794.hdf5\n",
      "Epoch 00021: saving model to data/auto/autoencoder-0.6793.hdf5\n",
      "Epoch 00022: saving model to data/auto/autoencoder-0.6792.hdf5\n",
      "Epoch 00023: saving model to data/auto/autoencoder-0.6791.hdf5\n",
      "Epoch 00024: saving model to data/auto/autoencoder-0.6789.hdf5\n",
      "Epoch 00025: saving model to data/auto/autoencoder-0.6788.hdf5\n",
      "Epoch 00026: saving model to data/auto/autoencoder-0.6787.hdf5\n",
      "Epoch 00027: saving model to data/auto/autoencoder-0.6786.hdf5\n",
      "Epoch 00028: saving model to data/auto/autoencoder-0.6785.hdf5\n",
      "Epoch 00029: saving model to data/auto/autoencoder-0.6784.hdf5\n",
      "Epoch 00030: saving model to data/auto/autoencoder-0.6782.hdf5\n",
      "Epoch 00031: saving model to data/auto/autoencoder-0.6781.hdf5\n",
      "Epoch 00032: saving model to data/auto/autoencoder-0.6780.hdf5\n",
      "Epoch 00033: saving model to data/auto/autoencoder-0.6779.hdf5\n",
      "Epoch 00034: saving model to data/auto/autoencoder-0.6778.hdf5\n",
      "Epoch 00035: saving model to data/auto/autoencoder-0.6777.hdf5\n",
      "Epoch 00036: saving model to data/auto/autoencoder-0.6775.hdf5\n",
      "Epoch 00037: saving model to data/auto/autoencoder-0.6774.hdf5\n",
      "Epoch 00038: saving model to data/auto/autoencoder-0.6773.hdf5\n",
      "Epoch 00039: saving model to data/auto/autoencoder-0.6772.hdf5\n",
      "Epoch 00040: saving model to data/auto/autoencoder-0.6771.hdf5\n",
      "Epoch 00041: saving model to data/auto/autoencoder-0.6770.hdf5\n",
      "Epoch 00042: saving model to data/auto/autoencoder-0.6768.hdf5\n",
      "Epoch 00043: saving model to data/auto/autoencoder-0.6767.hdf5\n",
      "Epoch 00044: saving model to data/auto/autoencoder-0.6766.hdf5\n",
      "Epoch 00045: saving model to data/auto/autoencoder-0.6765.hdf5\n",
      "Epoch 00046: saving model to data/auto/autoencoder-0.6764.hdf5\n",
      "Epoch 00047: saving model to data/auto/autoencoder-0.6763.hdf5\n",
      "Epoch 00048: saving model to data/auto/autoencoder-0.6761.hdf5\n",
      "Epoch 00049: saving model to data/auto/autoencoder-0.6760.hdf5\n",
      "Epoch 00050: saving model to data/auto/autoencoder-0.6759.hdf5\n",
      "Epoch 00051: saving model to data/auto/autoencoder-0.6758.hdf5\n",
      "Epoch 00052: saving model to data/auto/autoencoder-0.6757.hdf5\n",
      "Epoch 00053: saving model to data/auto/autoencoder-0.6756.hdf5\n",
      "Epoch 00054: saving model to data/auto/autoencoder-0.6754.hdf5\n",
      "Epoch 00055: saving model to data/auto/autoencoder-0.6753.hdf5\n",
      "Epoch 00056: saving model to data/auto/autoencoder-0.6752.hdf5\n",
      "Epoch 00057: saving model to data/auto/autoencoder-0.6751.hdf5\n",
      "Epoch 00058: saving model to data/auto/autoencoder-0.6750.hdf5\n",
      "Epoch 00059: saving model to data/auto/autoencoder-0.6749.hdf5\n",
      "Epoch 00060: saving model to data/auto/autoencoder-0.6747.hdf5\n",
      "Epoch 00061: saving model to data/auto/autoencoder-0.6746.hdf5\n",
      "Epoch 00062: saving model to data/auto/autoencoder-0.6745.hdf5\n",
      "Epoch 00063: saving model to data/auto/autoencoder-0.6744.hdf5\n",
      "Epoch 00064: saving model to data/auto/autoencoder-0.6743.hdf5\n",
      "Epoch 00065: saving model to data/auto/autoencoder-0.6742.hdf5\n",
      "Epoch 00066: saving model to data/auto/autoencoder-0.6740.hdf5\n",
      "Epoch 00067: saving model to data/auto/autoencoder-0.6739.hdf5\n",
      "Epoch 00068: saving model to data/auto/autoencoder-0.6738.hdf5\n",
      "Epoch 00069: saving model to data/auto/autoencoder-0.6737.hdf5\n",
      "Epoch 00070: saving model to data/auto/autoencoder-0.6736.hdf5\n",
      "Epoch 00071: saving model to data/auto/autoencoder-0.6735.hdf5\n",
      "Epoch 00072: saving model to data/auto/autoencoder-0.6733.hdf5\n",
      "Epoch 00073: saving model to data/auto/autoencoder-0.6732.hdf5\n",
      "Epoch 00074: saving model to data/auto/autoencoder-0.6731.hdf5\n",
      "Epoch 00075: saving model to data/auto/autoencoder-0.6730.hdf5\n",
      "Epoch 00076: saving model to data/auto/autoencoder-0.6729.hdf5\n",
      "Epoch 00077: saving model to data/auto/autoencoder-0.6728.hdf5\n",
      "Epoch 00078: saving model to data/auto/autoencoder-0.6726.hdf5\n",
      "Epoch 00079: saving model to data/auto/autoencoder-0.6725.hdf5\n",
      "Epoch 00080: saving model to data/auto/autoencoder-0.6724.hdf5\n",
      "Epoch 00081: saving model to data/auto/autoencoder-0.6723.hdf5\n",
      "Epoch 00082: saving model to data/auto/autoencoder-0.6722.hdf5\n",
      "Epoch 00083: saving model to data/auto/autoencoder-0.6721.hdf5\n",
      "Epoch 00084: saving model to data/auto/autoencoder-0.6719.hdf5\n",
      "Epoch 00085: saving model to data/auto/autoencoder-0.6718.hdf5\n",
      "Epoch 00086: saving model to data/auto/autoencoder-0.6717.hdf5\n",
      "Epoch 00087: saving model to data/auto/autoencoder-0.6716.hdf5\n",
      "Epoch 00088: saving model to data/auto/autoencoder-0.6715.hdf5\n",
      "Epoch 00089: saving model to data/auto/autoencoder-0.6714.hdf5\n",
      "Epoch 00090: saving model to data/auto/autoencoder-0.6712.hdf5\n",
      "Epoch 00091: saving model to data/auto/autoencoder-0.6711.hdf5\n",
      "Epoch 00092: saving model to data/auto/autoencoder-0.6710.hdf5\n",
      "Epoch 00093: saving model to data/auto/autoencoder-0.6709.hdf5\n",
      "Epoch 00094: saving model to data/auto/autoencoder-0.6708.hdf5\n",
      "Epoch 00095: saving model to data/auto/autoencoder-0.6707.hdf5\n",
      "Epoch 00096: saving model to data/auto/autoencoder-0.6705.hdf5\n",
      "Epoch 00097: saving model to data/auto/autoencoder-0.6704.hdf5\n",
      "Epoch 00098: saving model to data/auto/autoencoder-0.6703.hdf5\n",
      "Epoch 00099: saving model to data/auto/autoencoder-0.6702.hdf5\n"
     ]
    },
    {
     "data": {
      "text/plain": [
       "<keras.callbacks.History at 0x12d50e940>"
      ]
     },
     "execution_count": 17,
     "metadata": {},
     "output_type": "execute_result"
    }
   ],
   "source": [
    "autoencoder.fit(x_train, x_train,\n",
    "                nb_epoch=100,\n",
    "                batch_size=16,\n",
    "                shuffle=True,\n",
    "                validation_data=(x_train, x_train),callbacks=[checkpoint],verbose=0)"
   ]
  },
  {
   "cell_type": "code",
   "execution_count": 19,
   "metadata": {},
   "outputs": [],
   "source": [
    "filename = \"data/auto/autoencoder-0.6702.hdf5\"\n",
    "autoencoder.load_weights(filename)\n",
    "autoencoder.compile(loss='mean_squared_error', optimizer='adam')"
   ]
  },
  {
   "cell_type": "code",
   "execution_count": 20,
   "metadata": {},
   "outputs": [],
   "source": [
    "encoded_imgs = encoder.predict(x_train)\n",
    "decoded_imgs = decoder.predict(encoded_imgs)"
   ]
  },
  {
   "cell_type": "code",
   "execution_count": 21,
   "metadata": {},
   "outputs": [
    {
     "data": {
      "image/png": "[encoded data removed]",
      "text/plain": [
       "<matplotlib.figure.Figure at 0x12e2bfeb8>"
      ]
     },
     "metadata": {},
     "output_type": "display_data"
    }
   ],
   "source": [
    "n = 1  # how many digits we will display\n",
    "plt.figure(figsize=(20, 4))\n",
    "for i in range(n):\n",
    "    # display original\n",
    "    ax = plt.subplot(2, n, i + 1)\n",
    "    plt.imshow(x_train[i].reshape(10, 20))\n",
    "    plt.title(\"ORIGINAL TEXT\")\n",
    "    plt.gray()\n",
    "    ax.get_xaxis().set_visible(False)\n",
    "    ax.get_yaxis().set_visible(False)\n",
    "\n",
    "    # display reconstruction\n",
    "    ax = plt.subplot(2, n, i + 1 + n)\n",
    "    plt.imshow(decoded_imgs[i].reshape(10, 20))\n",
    "    plt.title(\"RECONSTRUCTED TEXT\")\n",
    "    plt.gray()\n",
    "    ax.get_xaxis().set_visible(False)\n",
    "    ax.get_yaxis().set_visible(False)\n",
    "plt.show()"
   ]
  },
  {
   "cell_type": "code",
   "execution_count": 22,
   "metadata": {},
   "outputs": [
    {
     "name": "stdout",
     "output_type": "stream",
     "text": [
      "Accuracy= 0.7656361758708954 \n",
      "\n"
     ]
    }
   ],
   "source": [
    "print(\"Accuracy=\",1-np.mean(abs(x_train-decoded_imgs)),'\\n')"
   ]
  },
  {
   "cell_type": "code",
   "execution_count": 23,
   "metadata": {},
   "outputs": [
    {
     "name": "stdout",
     "output_type": "stream",
     "text": [
      "Message: \n",
      " \" alms, and let them also beg for it!\"   \"no,\" replied zarathustra, \"i give no alms. i am not poor enough for that.\"   the saint laughed at zarathustra, and spake thus: \"then see to it that they accept  \" \n",
      "\n"
     ]
    }
   ],
   "source": [
    "s=[]\n",
    "int_to_char = dict((i, c) for i, c in enumerate(chars))\n",
    "\n",
    "for i in range(0,x_train.shape[1]):\n",
    "    result = int_to_char[round(x_train[0][i]*n_vocab)]\n",
    "    s.append(result)\n",
    "print(\"Message:\",'\\n',\"\\\"\", ''.join(s), \"\\\"\",'\\n')"
   ]
  },
  {
   "cell_type": "code",
   "execution_count": 24,
   "metadata": {},
   "outputs": [
    {
     "name": "stdout",
     "output_type": "stream",
     "text": [
      "Decoded Message: \n",
      " \" fgggeefgfegfgehgfgefgggeffgefggegheeeeeeggfeegfgggffehfgfhgghggfeeegegghfeggefgghfegefgeggheggggefgghggefggehgfgfeeeeggfegfgggegfhggffefhehfgfgghghgfeefgfeggfgfegghhfeeggfgehffeggeggehgfgeggfheffffgge \"\n"
     ]
    }
   ],
   "source": [
    "s1=[]\n",
    "for i in range(0,x_train.shape[1]):\n",
    "    result2 = int_to_char[round(decoded_imgs[0][i]*n_vocab)]\n",
    "    s1.append(result2)\n",
    "print(\"Decoded Message:\",'\\n',\"\\\"\", ''.join(s1), \"\\\"\")"
   ]
  }
 ],
 "metadata": {
  "kernelspec": {
   "display_name": "Python 3",
   "language": "python",
   "name": "python3"
  },
  "language_info": {
   "codemirror_mode": {
    "name": "ipython",
    "version": 3.0
   },
   "file_extension": ".py",
   "mimetype": "text/x-python",
   "name": "python",
   "nbconvert_exporter": "python",
   "pygments_lexer": "ipython3",
   "version": "3.5.2"
  }
 },
 "nbformat": 4,
 "nbformat_minor": 0
}